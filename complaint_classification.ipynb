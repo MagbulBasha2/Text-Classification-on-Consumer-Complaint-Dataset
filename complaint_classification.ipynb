{
 "cells": [
  {
   "cell_type": "code",
   "execution_count": 18,
   "id": "8c646ccd",
   "metadata": {},
   "outputs": [],
   "source": [
    "import pandas as pd\n",
    "import numpy as np\n",
    "import re, string\n",
    "import matplotlib.pyplot as plt\n",
    "import seaborn as sns\n",
    "\n",
    "from sklearn.model_selection import train_test_split\n",
    "from sklearn.feature_extraction.text import CountVectorizer, TfidfVectorizer\n",
    "from sklearn.linear_model import LogisticRegression\n",
    "from sklearn.naive_bayes import MultinomialNB\n",
    "from sklearn.svm import LinearSVC\n",
    "from sklearn.ensemble import RandomForestClassifier\n",
    "from sklearn.metrics import classification_report, confusion_matrix, accuracy_score\n"
   ]
  },
  {
   "cell_type": "code",
   "execution_count": 19,
   "id": "7cd43628",
   "metadata": {},
   "outputs": [],
   "source": [
    "df = pd.read_csv(\"complaints/complaints.csv\", low_memory=False)\n",
    "\n"
   ]
  },
  {
   "cell_type": "code",
   "execution_count": 20,
   "id": "cc266821",
   "metadata": {},
   "outputs": [
    {
     "data": {
      "text/html": [
       "<div>\n",
       "<style scoped>\n",
       "    .dataframe tbody tr th:only-of-type {\n",
       "        vertical-align: middle;\n",
       "    }\n",
       "\n",
       "    .dataframe tbody tr th {\n",
       "        vertical-align: top;\n",
       "    }\n",
       "\n",
       "    .dataframe thead th {\n",
       "        text-align: right;\n",
       "    }\n",
       "</style>\n",
       "<table border=\"1\" class=\"dataframe\">\n",
       "  <thead>\n",
       "    <tr style=\"text-align: right;\">\n",
       "      <th></th>\n",
       "      <th>Date received</th>\n",
       "      <th>Product</th>\n",
       "      <th>Sub-product</th>\n",
       "      <th>Issue</th>\n",
       "      <th>Sub-issue</th>\n",
       "      <th>Consumer complaint narrative</th>\n",
       "      <th>Company public response</th>\n",
       "      <th>Company</th>\n",
       "      <th>State</th>\n",
       "      <th>ZIP code</th>\n",
       "      <th>Tags</th>\n",
       "      <th>Consumer consent provided?</th>\n",
       "      <th>Submitted via</th>\n",
       "      <th>Date sent to company</th>\n",
       "      <th>Company response to consumer</th>\n",
       "      <th>Timely response?</th>\n",
       "      <th>Consumer disputed?</th>\n",
       "      <th>Complaint ID</th>\n",
       "    </tr>\n",
       "  </thead>\n",
       "  <tbody>\n",
       "    <tr>\n",
       "      <th>0</th>\n",
       "      <td>2020-07-06</td>\n",
       "      <td>Credit reporting, credit repair services, or o...</td>\n",
       "      <td>Credit reporting</td>\n",
       "      <td>Incorrect information on your report</td>\n",
       "      <td>Information belongs to someone else</td>\n",
       "      <td>NaN</td>\n",
       "      <td>Company has responded to the consumer and the ...</td>\n",
       "      <td>Experian Information Solutions Inc.</td>\n",
       "      <td>FL</td>\n",
       "      <td>346XX</td>\n",
       "      <td>NaN</td>\n",
       "      <td>Other</td>\n",
       "      <td>Web</td>\n",
       "      <td>2020-07-06</td>\n",
       "      <td>Closed with explanation</td>\n",
       "      <td>Yes</td>\n",
       "      <td>NaN</td>\n",
       "      <td>3730948</td>\n",
       "    </tr>\n",
       "    <tr>\n",
       "      <th>1</th>\n",
       "      <td>2025-09-18</td>\n",
       "      <td>Credit reporting or other personal consumer re...</td>\n",
       "      <td>Credit reporting</td>\n",
       "      <td>Incorrect information on your report</td>\n",
       "      <td>Information belongs to someone else</td>\n",
       "      <td>NaN</td>\n",
       "      <td>NaN</td>\n",
       "      <td>EQUIFAX, INC.</td>\n",
       "      <td>TX</td>\n",
       "      <td>77077</td>\n",
       "      <td>NaN</td>\n",
       "      <td>NaN</td>\n",
       "      <td>Web</td>\n",
       "      <td>2025-09-18</td>\n",
       "      <td>In progress</td>\n",
       "      <td>Yes</td>\n",
       "      <td>NaN</td>\n",
       "      <td>16016736</td>\n",
       "    </tr>\n",
       "    <tr>\n",
       "      <th>2</th>\n",
       "      <td>2025-09-04</td>\n",
       "      <td>Credit reporting or other personal consumer re...</td>\n",
       "      <td>Credit reporting</td>\n",
       "      <td>Incorrect information on your report</td>\n",
       "      <td>Information belongs to someone else</td>\n",
       "      <td>NaN</td>\n",
       "      <td>NaN</td>\n",
       "      <td>Experian Information Solutions Inc.</td>\n",
       "      <td>IL</td>\n",
       "      <td>60619</td>\n",
       "      <td>NaN</td>\n",
       "      <td>NaN</td>\n",
       "      <td>Web</td>\n",
       "      <td>2025-09-04</td>\n",
       "      <td>In progress</td>\n",
       "      <td>Yes</td>\n",
       "      <td>NaN</td>\n",
       "      <td>15722832</td>\n",
       "    </tr>\n",
       "    <tr>\n",
       "      <th>3</th>\n",
       "      <td>2025-09-18</td>\n",
       "      <td>Credit reporting or other personal consumer re...</td>\n",
       "      <td>Credit reporting</td>\n",
       "      <td>Incorrect information on your report</td>\n",
       "      <td>Account status incorrect</td>\n",
       "      <td>NaN</td>\n",
       "      <td>NaN</td>\n",
       "      <td>TRANSUNION INTERMEDIATE HOLDINGS, INC.</td>\n",
       "      <td>NY</td>\n",
       "      <td>11434</td>\n",
       "      <td>NaN</td>\n",
       "      <td>NaN</td>\n",
       "      <td>Web</td>\n",
       "      <td>2025-09-18</td>\n",
       "      <td>In progress</td>\n",
       "      <td>Yes</td>\n",
       "      <td>NaN</td>\n",
       "      <td>16028872</td>\n",
       "    </tr>\n",
       "    <tr>\n",
       "      <th>4</th>\n",
       "      <td>2025-09-05</td>\n",
       "      <td>Credit reporting or other personal consumer re...</td>\n",
       "      <td>Credit reporting</td>\n",
       "      <td>Improper use of your report</td>\n",
       "      <td>Reporting company used your report improperly</td>\n",
       "      <td>NaN</td>\n",
       "      <td>NaN</td>\n",
       "      <td>Experian Information Solutions Inc.</td>\n",
       "      <td>NC</td>\n",
       "      <td>283XX</td>\n",
       "      <td>NaN</td>\n",
       "      <td>NaN</td>\n",
       "      <td>Web</td>\n",
       "      <td>2025-09-05</td>\n",
       "      <td>In progress</td>\n",
       "      <td>Yes</td>\n",
       "      <td>NaN</td>\n",
       "      <td>15762150</td>\n",
       "    </tr>\n",
       "  </tbody>\n",
       "</table>\n",
       "</div>"
      ],
      "text/plain": [
       "  Date received                                            Product  \\\n",
       "0    2020-07-06  Credit reporting, credit repair services, or o...   \n",
       "1    2025-09-18  Credit reporting or other personal consumer re...   \n",
       "2    2025-09-04  Credit reporting or other personal consumer re...   \n",
       "3    2025-09-18  Credit reporting or other personal consumer re...   \n",
       "4    2025-09-05  Credit reporting or other personal consumer re...   \n",
       "\n",
       "        Sub-product                                 Issue  \\\n",
       "0  Credit reporting  Incorrect information on your report   \n",
       "1  Credit reporting  Incorrect information on your report   \n",
       "2  Credit reporting  Incorrect information on your report   \n",
       "3  Credit reporting  Incorrect information on your report   \n",
       "4  Credit reporting           Improper use of your report   \n",
       "\n",
       "                                       Sub-issue Consumer complaint narrative  \\\n",
       "0            Information belongs to someone else                          NaN   \n",
       "1            Information belongs to someone else                          NaN   \n",
       "2            Information belongs to someone else                          NaN   \n",
       "3                       Account status incorrect                          NaN   \n",
       "4  Reporting company used your report improperly                          NaN   \n",
       "\n",
       "                             Company public response  \\\n",
       "0  Company has responded to the consumer and the ...   \n",
       "1                                                NaN   \n",
       "2                                                NaN   \n",
       "3                                                NaN   \n",
       "4                                                NaN   \n",
       "\n",
       "                                  Company State ZIP code Tags  \\\n",
       "0     Experian Information Solutions Inc.    FL    346XX  NaN   \n",
       "1                           EQUIFAX, INC.    TX    77077  NaN   \n",
       "2     Experian Information Solutions Inc.    IL    60619  NaN   \n",
       "3  TRANSUNION INTERMEDIATE HOLDINGS, INC.    NY    11434  NaN   \n",
       "4     Experian Information Solutions Inc.    NC    283XX  NaN   \n",
       "\n",
       "  Consumer consent provided? Submitted via Date sent to company  \\\n",
       "0                      Other           Web           2020-07-06   \n",
       "1                        NaN           Web           2025-09-18   \n",
       "2                        NaN           Web           2025-09-04   \n",
       "3                        NaN           Web           2025-09-18   \n",
       "4                        NaN           Web           2025-09-05   \n",
       "\n",
       "  Company response to consumer Timely response? Consumer disputed?  \\\n",
       "0      Closed with explanation              Yes                NaN   \n",
       "1                  In progress              Yes                NaN   \n",
       "2                  In progress              Yes                NaN   \n",
       "3                  In progress              Yes                NaN   \n",
       "4                  In progress              Yes                NaN   \n",
       "\n",
       "   Complaint ID  \n",
       "0       3730948  \n",
       "1      16016736  \n",
       "2      15722832  \n",
       "3      16028872  \n",
       "4      15762150  "
      ]
     },
     "execution_count": 20,
     "metadata": {},
     "output_type": "execute_result"
    }
   ],
   "source": [
    "\n",
    "\n",
    "df.head()\n"
   ]
  },
  {
   "cell_type": "code",
   "execution_count": 21,
   "id": "a93435a9",
   "metadata": {},
   "outputs": [],
   "source": [
    "df = df[['Consumer complaint narrative', 'Product']].dropna()\n"
   ]
  },
  {
   "cell_type": "code",
   "execution_count": 22,
   "id": "05bb987a",
   "metadata": {},
   "outputs": [
    {
     "data": {
      "text/plain": [
       "label\n",
       "0    807277\n",
       "1    361923\n",
       "3    133663\n",
       "2      9461\n",
       "Name: count, dtype: int64"
      ]
     },
     "execution_count": 22,
     "metadata": {},
     "output_type": "execute_result"
    }
   ],
   "source": [
    "categories = {\n",
    "    'Credit reporting, credit repair services, or other personal consumer reports': 0,\n",
    "    'Debt collection': 1,\n",
    "    'Consumer Loan': 2,\n",
    "    'Mortgage': 3\n",
    "}\n",
    "\n",
    "df = df[df['Product'].isin(categories.keys())].copy()\n",
    "df['label'] = df['Product'].map(categories)\n",
    "# ...existing code...\n",
    "df['label'].value_counts()\n"
   ]
  },
  {
   "cell_type": "code",
   "execution_count": 23,
   "id": "baac6813",
   "metadata": {},
   "outputs": [
    {
     "name": "stdout",
     "output_type": "stream",
     "text": [
      "Author: Shaik Magbul Basha | Date: 2025-09-28 11:30:34.788492\n"
     ]
    },
    {
     "data": {
      "image/png": "[encoded data removed]",
      "text/plain": [
       "<Figure size 640x480 with 1 Axes>"
      ]
     },
     "metadata": {},
     "output_type": "display_data"
    },
    {
     "data": {
      "image/png": "[encoded data removed]",
      "text/plain": [
       "<Figure size 640x480 with 1 Axes>"
      ]
     },
     "metadata": {},
     "output_type": "display_data"
    }
   ],
   "source": [
    "from datetime import datetime\n",
    "print(\"Author: Shaik Magbul Basha | Date:\", datetime.now())\n",
    "\n",
    "df = df.copy()\n",
    "\n",
    "# Add a new feature for complaint length\n",
    "df['text_length'] = df['Consumer complaint narrative'].apply(lambda x: len(x.split()))\n",
    "\n",
    "# Plot category distribution\n",
    "import seaborn as sns\n",
    "import matplotlib.pyplot as plt\n",
    "\n",
    "sns.countplot(x='label', data=df)\n",
    "plt.title(\"Complaint Categories Distribution\")\n",
    "plt.show()\n",
    "\n",
    "# Plot complaint length distribution\n",
    "sns.histplot(df['text_length'], bins=50)\n",
    "plt.title(\"Complaint Length Distribution\")\n",
    "plt.show()\n"
   ]
  },
  {
   "cell_type": "code",
   "execution_count": 24,
   "id": "5fd2989e",
   "metadata": {},
   "outputs": [
    {
     "name": "stdout",
     "output_type": "stream",
     "text": [
      "Author: Shaik Magbul Basha | Date: 2025-09-28 11:32:18.834233\n"
     ]
    },
    {
     "data": {
      "text/html": [
       "<div>\n",
       "<style scoped>\n",
       "    .dataframe tbody tr th:only-of-type {\n",
       "        vertical-align: middle;\n",
       "    }\n",
       "\n",
       "    .dataframe tbody tr th {\n",
       "        vertical-align: top;\n",
       "    }\n",
       "\n",
       "    .dataframe thead th {\n",
       "        text-align: right;\n",
       "    }\n",
       "</style>\n",
       "<table border=\"1\" class=\"dataframe\">\n",
       "  <thead>\n",
       "    <tr style=\"text-align: right;\">\n",
       "      <th></th>\n",
       "      <th>Consumer complaint narrative</th>\n",
       "      <th>clean_text</th>\n",
       "    </tr>\n",
       "  </thead>\n",
       "  <tbody>\n",
       "    <tr>\n",
       "      <th>20</th>\n",
       "      <td>I am listing accounts below that have been rep...</td>\n",
       "      <td>i am listing accounts below that have been rep...</td>\n",
       "    </tr>\n",
       "    <tr>\n",
       "      <th>37</th>\n",
       "      <td>In accordance with the Fair Credit Reporting a...</td>\n",
       "      <td>in accordance with the fair credit reporting a...</td>\n",
       "    </tr>\n",
       "    <tr>\n",
       "      <th>44</th>\n",
       "      <td>On XX/XX/XXXX I requested the removal of Priva...</td>\n",
       "      <td>on xxxxxxxx i requested the removal of private...</td>\n",
       "    </tr>\n",
       "    <tr>\n",
       "      <th>47</th>\n",
       "      <td>These are not my accounts.</td>\n",
       "      <td>these are not my accounts</td>\n",
       "    </tr>\n",
       "    <tr>\n",
       "      <th>73</th>\n",
       "      <td>Ok this is for TransUnion. I originally challe...</td>\n",
       "      <td>ok this is for transunion i originally challen...</td>\n",
       "    </tr>\n",
       "  </tbody>\n",
       "</table>\n",
       "</div>"
      ],
      "text/plain": [
       "                         Consumer complaint narrative  \\\n",
       "20  I am listing accounts below that have been rep...   \n",
       "37  In accordance with the Fair Credit Reporting a...   \n",
       "44  On XX/XX/XXXX I requested the removal of Priva...   \n",
       "47                         These are not my accounts.   \n",
       "73  Ok this is for TransUnion. I originally challe...   \n",
       "\n",
       "                                           clean_text  \n",
       "20  i am listing accounts below that have been rep...  \n",
       "37  in accordance with the fair credit reporting a...  \n",
       "44  on xxxxxxxx i requested the removal of private...  \n",
       "47                          these are not my accounts  \n",
       "73  ok this is for transunion i originally challen...  "
      ]
     },
     "execution_count": 24,
     "metadata": {},
     "output_type": "execute_result"
    }
   ],
   "source": [
    "print(\"Author: Shaik Magbul Basha | Date:\", datetime.now())\n",
    "\n",
    "\n",
    "def clean_text(text):\n",
    "    text = text.lower()\n",
    "    text = re.sub(r'\\d+', '', text)\n",
    "    text = text.translate(str.maketrans('', '', string.punctuation))\n",
    "    text = re.sub(r'\\s+', ' ', text)\n",
    "    return text.strip()\n",
    "\n",
    "df['clean_text'] = df['Consumer complaint narrative'].apply(clean_text)\n",
    "\n",
    "df[['Consumer complaint narrative','clean_text']].head()=\n"
   ]
  },
  {
   "cell_type": "code",
   "execution_count": 26,
   "id": "18520e66",
   "metadata": {},
   "outputs": [],
   "source": [
    "X = df['clean_text']\n",
    "y = df['label']\n",
    "\n",
    "X_train, X_test, y_train, y_test = train_test_split(\n",
    "    X, y, test_size=0.2, random_state=42, stratify=y\n",
    ")\n"
   ]
  },
  {
   "cell_type": "code",
   "execution_count": 27,
   "id": "cce6fa34",
   "metadata": {},
   "outputs": [],
   "source": [
    "tfidf = TfidfVectorizer(max_features=5000, stop_words='english')\n",
    "X_train_tfidf = tfidf.fit_transform(X_train)\n",
    "X_test_tfidf = tfidf.transform(X_test)\n"
   ]
  },
  {
   "cell_type": "code",
   "execution_count": 28,
   "id": "32933f13",
   "metadata": {},
   "outputs": [
    {
     "name": "stdout",
     "output_type": "stream",
     "text": [
      "Author: Shaik Magbul Basha | Date: 2025-09-28 11:40:14.345133\n",
      "\n",
      "Logistic Regression Results:\n",
      "Accuracy: 0.906143676299697\n",
      "              precision    recall  f1-score   support\n",
      "\n",
      "           0       0.92      0.94      0.93    161455\n",
      "           1       0.87      0.83      0.85     72385\n",
      "           2       0.67      0.37      0.47      1892\n",
      "           3       0.92      0.93      0.93     26733\n",
      "\n",
      "    accuracy                           0.91    262465\n",
      "   macro avg       0.84      0.77      0.80    262465\n",
      "weighted avg       0.90      0.91      0.90    262465\n",
      "\n",
      "\n",
      "Naive Bayes Results:\n",
      "Accuracy: 0.8749242756177014\n",
      "              precision    recall  f1-score   support\n",
      "\n",
      "           0       0.90      0.92      0.91    161455\n",
      "           1       0.84      0.76      0.80     72385\n",
      "           2       0.43      0.28      0.34      1892\n",
      "           3       0.82      0.95      0.88     26733\n",
      "\n",
      "    accuracy                           0.87    262465\n",
      "   macro avg       0.75      0.73      0.73    262465\n",
      "weighted avg       0.87      0.87      0.87    262465\n",
      "\n",
      "\n",
      "Linear SVM Results:\n",
      "Accuracy: 0.906307507667689\n",
      "              precision    recall  f1-score   support\n",
      "\n",
      "           0       0.92      0.94      0.93    161455\n",
      "           1       0.87      0.83      0.85     72385\n",
      "           2       0.75      0.28      0.41      1892\n",
      "           3       0.92      0.93      0.93     26733\n",
      "\n",
      "    accuracy                           0.91    262465\n",
      "   macro avg       0.86      0.75      0.78    262465\n",
      "weighted avg       0.90      0.91      0.90    262465\n",
      "\n"
     ]
    }
   ],
   "source": [
    "\n",
    "print(\"Author: Shaik Magbul Basha | Date:\", datetime.now())\n",
    "\n",
    "models = {\n",
    "    \"Logistic Regression\": LogisticRegression(max_iter=200),\n",
    "    \"Naive Bayes\": MultinomialNB(),\n",
    "    \"Linear SVM\": LinearSVC(),\n",
    "}\n",
    "results = {}\n",
    "\n",
    "for name, model in models.items():\n",
    "    model.fit(X_train_tfidf, y_train)\n",
    "    y_pred = model.predict(X_test_tfidf)\n",
    "    acc = accuracy_score(y_test, y_pred)\n",
    "    results[name] = acc\n",
    "    print(f\"\\n{name} Results:\")\n",
    "    print(\"Accuracy:\", acc)\n",
    "    print(classification_report(y_test, y_pred))\n"
   ]
  },
  {
   "cell_type": "code",
   "execution_count": 29,
   "id": "6dd4abe7",
   "metadata": {},
   "outputs": [
    {
     "name": "stdout",
     "output_type": "stream",
     "text": [
      "Author: Shaik Magbul Basha | Date: 2025-09-28 11:50:06.025311\n"
     ]
    },
    {
     "data": {
      "image/png": "[encoded data removed]",
      "text/plain": [
       "<Figure size 640x480 with 1 Axes>"
      ]
     },
     "metadata": {},
     "output_type": "display_data"
    }
   ],
   "source": [
    "print(\"Author: Shaik Magbul Basha | Date:\", datetime.now())\n",
    "\n",
    "\n",
    "results_df = pd.DataFrame.from_dict(results, orient='index', columns=['Accuracy'])\n",
    "results_df.plot(kind='bar', legend=False, title=\"Model Accuracy Comparison\")\n",
    "plt.show()\n"
   ]
  },
  {
   "cell_type": "code",
   "execution_count": 30,
   "id": "15bef330",
   "metadata": {},
   "outputs": [
    {
     "name": "stdout",
     "output_type": "stream",
     "text": [
      "Author: Shaik Magbul Basha | Date: 2025-09-28 11:50:06.764977\n"
     ]
    },
    {
     "data": {
      "image/png": "[encoded data removed]",
      "text/plain": [
       "<Figure size 640x480 with 2 Axes>"
      ]
     },
     "metadata": {},
     "output_type": "display_data"
    }
   ],
   "source": [
    "print(\"Author: Shaik Magbul Basha | Date:\", datetime.now())\n",
    "\n",
    "\n",
    "best_model = LogisticRegression(max_iter=200)\n",
    "best_model.fit(X_train_tfidf, y_train)\n",
    "y_pred = best_model.predict(X_test_tfidf)\n",
    "\n",
    "cm = confusion_matrix(y_test, y_pred)\n",
    "sns.heatmap(cm, annot=True, fmt=\"d\", cmap=\"Blues\")\n",
    "plt.xlabel(\"Predicted\")\n",
    "plt.ylabel(\"Actual\")\n",
    "plt.title(\"Confusion Matrix - Logistic Regression\")\n",
    "plt.show()\n"
   ]
  },
  {
   "cell_type": "code",
   "execution_count": 31,
   "id": "d349ce81",
   "metadata": {},
   "outputs": [
    {
     "name": "stdout",
     "output_type": "stream",
     "text": [
      "Author: Shaik Magbul Basha | Date: 2025-09-28 11:52:46.350021\n",
      "Predicted Category: Debt collection\n"
     ]
    }
   ],
   "source": [
    "print(\"Author: Shaik Magbul Basha | Date:\", datetime.now())\n",
    "\n",
    "\n",
    "sample = [\"A debt collector keeps calling me about a debt I do not owe and is threatening legal action.\"]\n",
    "sample_tfidf = tfidf.transform(sample)\n",
    "pred = best_model.predict(sample_tfidf)\n",
    "\n",
    "label_map = {v: k for k, v in categories.items()}\n",
    "print(\"Predicted Category:\", label_map[pred[0]])\n"
   ]
  },
  {
   "cell_type": "code",
   "execution_count": null,
   "id": "71555072",
   "metadata": {},
   "outputs": [],
   "source": []
  }
 ],
 "metadata": {
  "kernelspec": {
   "display_name": "Python 3",
   "language": "python",
   "name": "python3"
  },
  "language_info": {
   "codemirror_mode": {
    "name": "ipython",
    "version": 3
   },
   "file_extension": ".py",
   "mimetype": "text/x-python",
   "name": "python",
   "nbconvert_exporter": "python",
   "pygments_lexer": "ipython3",
   "version": "3.12.3"
  }
 },
 "nbformat": 4,
 "nbformat_minor": 5
}
